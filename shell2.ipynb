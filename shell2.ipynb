{
 "cells": [
  {
   "cell_type": "code",
   "execution_count": 2,
   "metadata": {},
   "outputs": [
    {
     "name": "stdout",
     "output_type": "stream",
     "text": [
      "3.75\n",
      "56.24999999999999\n"
     ]
    }
   ],
   "source": [
    "# CONSTANTS\n",
    "bid=1500\n",
    "approve=0.25\n",
    "cr=0.01\n",
    "ctr=0.015\n",
    "epc=cr*approve*bid\n",
    "print(epc)\n",
    "ecpm=epc*ctr*1000\n",
    "print(ecpm)\n",
    "campaigns = None"
   ]
  },
  {
   "cell_type": "code",
   "execution_count": 3,
   "metadata": {},
   "outputs": [],
   "source": [
    "import pandas as pd\n",
    "import clickhouse_driver as ch\n",
    "from dotenv import load_dotenv\n",
    "import os\n",
    "from scipy.optimize import minimize\n",
    "import plotly.graph_objects as go\n",
    "from sklearn.metrics import accuracy_score\n",
    "\n",
    "from hw import HoltWinters\n",
    "from cross_val import CVScore\n",
    "\n",
    "with open('./queries/q2.sql', 'r') as f:\n",
    "    q = f.read()\n",
    "q=q.replace('${BID}', str(bid))\n",
    "sqlCH = ch.Client(host=\"192.168.235.72\",\n",
    "                    user=\"valferov\",\n",
    "                    password=\"bUfMupl1kDgK1337\")\n",
    "\n",
    "df = pd.DataFrame(sqlCH.execute(q))"
   ]
  },
  {
   "cell_type": "code",
   "execution_count": 4,
   "metadata": {},
   "outputs": [],
   "source": [
    "df.columns = ['campaigns', 'adv_id', 'shows', \n",
    "                'postbacks', 'ecpm']\n"
   ]
  },
  {
   "cell_type": "code",
   "execution_count": 5,
   "metadata": {},
   "outputs": [],
   "source": [
    "df['diff'] = abs(df['ecpm']-ecpm)\n",
    "df['geo'] = df['campaigns'].apply(lambda x: x[:2])"
   ]
  },
  {
   "cell_type": "code",
   "execution_count": 9,
   "metadata": {},
   "outputs": [
    {
     "data": {
      "text/plain": [
       "'DE | папилломы'"
      ]
     },
     "execution_count": 9,
     "metadata": {},
     "output_type": "execute_result"
    }
   ],
   "source": [
    "campaignsPriority = ['RU', 'KZ', 'UA', 'BY',\n",
    "                        'UZ', 'DE', 'HU', 'HR',\n",
    "                        'LT', 'LV', 'SK', 'RO',\n",
    "                        'PL', 'ES']\n",
    "df_diff = df.loc[df['diff'] == df['diff'].min()]\n",
    "for i in campaignsPriority:\n",
    "    check = df_diff.loc[df_diff['geo'] == i]\n",
    "    if not check.empty:\n",
    "        campaigns = check['campaigns'].values[0+1]\n",
    "        break\n",
    "if campaigns is None:\n",
    "    print('sas')\n",
    "    campaigns = df_diff.sort_values(by='shows', \n",
    "                                    ascending=False)['campaigns'].values[0]\n",
    "campaigns"
   ]
  },
  {
   "cell_type": "code",
   "execution_count": 54,
   "metadata": {},
   "outputs": [
    {
     "data": {
      "text/plain": [
       "2      HU\n",
       "3      DE\n",
       "17     BG\n",
       "19     CZ\n",
       "21     GR\n",
       "32     HR\n",
       "34     PT\n",
       "41     SK\n",
       "48     LT\n",
       "62     LV\n",
       "67     RS\n",
       "80     RO\n",
       "97     AT\n",
       "108    PL\n",
       "162    ES\n",
       "163    SI\n",
       "181    IT\n",
       "456    те\n",
       "673    Te\n",
       "Name: geo, dtype: object"
      ]
     },
     "execution_count": 54,
     "metadata": {},
     "output_type": "execute_result"
    }
   ],
   "source": [
    "df_diff['geo'].drop_duplicates()"
   ]
  },
  {
   "cell_type": "code",
   "execution_count": null,
   "metadata": {},
   "outputs": [],
   "source": [
    "campaignId = 12862\n",
    "\n",
    "with open('./queries/q2.sql', 'r') as f:\n",
    "    q = f.read()\n",
    "q=q.replace('${CAMPAIGNS_ID}', str(campaignId))\n",
    "sqlCH = ch.Client(host=\"192.168.235.72\",\n",
    "                    user=\"valferov\",\n",
    "                    password=\"bUfMupl1kDgK1337\")\n",
    "\n",
    "df = pd.DataFrame(sqlCH.execute(q))"
   ]
  }
 ],
 "metadata": {
  "kernelspec": {
   "display_name": "Python 3.10.4 64-bit",
   "language": "python",
   "name": "python3"
  },
  "language_info": {
   "codemirror_mode": {
    "name": "ipython",
    "version": 3
   },
   "file_extension": ".py",
   "mimetype": "text/x-python",
   "name": "python",
   "nbconvert_exporter": "python",
   "pygments_lexer": "ipython3",
   "version": "3.10.4"
  },
  "orig_nbformat": 4,
  "vscode": {
   "interpreter": {
    "hash": "916dbcbb3f70747c44a77c7bcd40155683ae19c65e1c03b4aa3499c5328201f1"
   }
  }
 },
 "nbformat": 4,
 "nbformat_minor": 2
}
