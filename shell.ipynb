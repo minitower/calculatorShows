{
 "cells": [
  {
   "cell_type": "code",
   "execution_count": 20,
   "metadata": {},
   "outputs": [
    {
     "name": "stdout",
     "output_type": "stream",
     "text": [
      "            0\n",
      "0  RU | Белье\n"
     ]
    },
    {
     "ename": "ValueError",
     "evalue": "Length mismatch: Expected axis has 0 elements, new values have 2 elements",
     "output_type": "error",
     "traceback": [
      "\u001b[1;31m---------------------------------------------------------------------------\u001b[0m",
      "\u001b[1;31mValueError\u001b[0m                                Traceback (most recent call last)",
      "\u001b[1;32mc:\\Users\\user\\Projects\\forecaster\\shell.ipynb Ячейка 1\u001b[0m in \u001b[0;36m<cell line: 14>\u001b[1;34m()\u001b[0m\n\u001b[0;32m      <a href='vscode-notebook-cell:/c%3A/Users/user/Projects/forecaster/shell.ipynb#ch0000000?line=7'>8</a>\u001b[0m load_dotenv()\n\u001b[0;32m     <a href='vscode-notebook-cell:/c%3A/Users/user/Projects/forecaster/shell.ipynb#ch0000000?line=9'>10</a>\u001b[0m campaign \u001b[39m=\u001b[39m getCampaignById(host\u001b[39m=\u001b[39mos\u001b[39m.\u001b[39menviron\u001b[39m.\u001b[39mget(\u001b[39m'\u001b[39m\u001b[39mHOST\u001b[39m\u001b[39m'\u001b[39m),\n\u001b[0;32m     <a href='vscode-notebook-cell:/c%3A/Users/user/Projects/forecaster/shell.ipynb#ch0000000?line=10'>11</a>\u001b[0m                 user\u001b[39m=\u001b[39mos\u001b[39m.\u001b[39menviron\u001b[39m.\u001b[39mget(\u001b[39m'\u001b[39m\u001b[39mCLICKHOUSE_USERNAME\u001b[39m\u001b[39m'\u001b[39m),\n\u001b[0;32m     <a href='vscode-notebook-cell:/c%3A/Users/user/Projects/forecaster/shell.ipynb#ch0000000?line=11'>12</a>\u001b[0m                 password\u001b[39m=\u001b[39mos\u001b[39m.\u001b[39menviron\u001b[39m.\u001b[39mget(\u001b[39m'\u001b[39m\u001b[39mPASSWORD\u001b[39m\u001b[39m'\u001b[39m),\n\u001b[0;32m     <a href='vscode-notebook-cell:/c%3A/Users/user/Projects/forecaster/shell.ipynb#ch0000000?line=12'>13</a>\u001b[0m                 campaignId\u001b[39m=\u001b[39m\u001b[39m28639\u001b[39m)\n\u001b[1;32m---> <a href='vscode-notebook-cell:/c%3A/Users/user/Projects/forecaster/shell.ipynb#ch0000000?line=13'>14</a>\u001b[0m df \u001b[39m=\u001b[39m loadData(host\u001b[39m=\u001b[39;49mos\u001b[39m.\u001b[39;49menviron\u001b[39m.\u001b[39;49mget(\u001b[39m'\u001b[39;49m\u001b[39mHOST\u001b[39;49m\u001b[39m'\u001b[39;49m),\n\u001b[0;32m     <a href='vscode-notebook-cell:/c%3A/Users/user/Projects/forecaster/shell.ipynb#ch0000000?line=14'>15</a>\u001b[0m                 user\u001b[39m=\u001b[39;49mos\u001b[39m.\u001b[39;49menviron\u001b[39m.\u001b[39;49mget(\u001b[39m'\u001b[39;49m\u001b[39mCLICKHOUSE_USERNAME\u001b[39;49m\u001b[39m'\u001b[39;49m),\n\u001b[0;32m     <a href='vscode-notebook-cell:/c%3A/Users/user/Projects/forecaster/shell.ipynb#ch0000000?line=15'>16</a>\u001b[0m                 password\u001b[39m=\u001b[39;49mos\u001b[39m.\u001b[39;49menviron\u001b[39m.\u001b[39;49mget(\u001b[39m'\u001b[39;49m\u001b[39mPASSWORD\u001b[39;49m\u001b[39m'\u001b[39;49m),\n\u001b[0;32m     <a href='vscode-notebook-cell:/c%3A/Users/user/Projects/forecaster/shell.ipynb#ch0000000?line=16'>17</a>\u001b[0m                 campaign_name\u001b[39m=\u001b[39;49mcampaign)\n\u001b[0;32m     <a href='vscode-notebook-cell:/c%3A/Users/user/Projects/forecaster/shell.ipynb#ch0000000?line=18'>19</a>\u001b[0m df[\u001b[39m'\u001b[39m\u001b[39mdatetime\u001b[39m\u001b[39m'\u001b[39m] \u001b[39m=\u001b[39m pd\u001b[39m.\u001b[39mto_datetime(df[\u001b[39m'\u001b[39m\u001b[39mdatetime\u001b[39m\u001b[39m'\u001b[39m])\u001b[39m.\u001b[39mdt\u001b[39m.\u001b[39mdate\n",
      "File \u001b[1;32mc:\\Users\\user\\Projects\\forecaster\\main.py:23\u001b[0m, in \u001b[0;36mloadData\u001b[1;34m(host, user, password, campaign_name)\u001b[0m\n\u001b[0;32m     18\u001b[0m sqlCH \u001b[39m=\u001b[39m ch\u001b[39m.\u001b[39mClient(host\u001b[39m=\u001b[39mhost,\n\u001b[0;32m     19\u001b[0m                     user\u001b[39m=\u001b[39muser,\n\u001b[0;32m     20\u001b[0m                     password\u001b[39m=\u001b[39mpassword)\n\u001b[0;32m     22\u001b[0m df \u001b[39m=\u001b[39m pd\u001b[39m.\u001b[39mDataFrame(sqlCH\u001b[39m.\u001b[39mexecute(q))\n\u001b[1;32m---> 23\u001b[0m df\u001b[39m.\u001b[39;49mcolumns \u001b[39m=\u001b[39m [\u001b[39m'\u001b[39m\u001b[39mdatetime\u001b[39m\u001b[39m'\u001b[39m, \u001b[39m'\u001b[39m\u001b[39mshows\u001b[39m\u001b[39m'\u001b[39m]\n\u001b[0;32m     24\u001b[0m df[\u001b[39m'\u001b[39m\u001b[39mdatetime\u001b[39m\u001b[39m'\u001b[39m] \u001b[39m=\u001b[39m pd\u001b[39m.\u001b[39mto_datetime(df[\u001b[39m'\u001b[39m\u001b[39mdatetime\u001b[39m\u001b[39m'\u001b[39m])\n\u001b[0;32m     25\u001b[0m df \u001b[39m=\u001b[39m df\u001b[39m.\u001b[39msort_values(\u001b[39m'\u001b[39m\u001b[39mdatetime\u001b[39m\u001b[39m'\u001b[39m)\n",
      "File \u001b[1;32mc:\\Users\\user\\Projects\\forecaster\\winFlask\\lib\\site-packages\\pandas\\core\\generic.py:5588\u001b[0m, in \u001b[0;36mNDFrame.__setattr__\u001b[1;34m(self, name, value)\u001b[0m\n\u001b[0;32m   5586\u001b[0m \u001b[39mtry\u001b[39;00m:\n\u001b[0;32m   5587\u001b[0m     \u001b[39mobject\u001b[39m\u001b[39m.\u001b[39m\u001b[39m__getattribute__\u001b[39m(\u001b[39mself\u001b[39m, name)\n\u001b[1;32m-> 5588\u001b[0m     \u001b[39mreturn\u001b[39;00m \u001b[39mobject\u001b[39;49m\u001b[39m.\u001b[39;49m\u001b[39m__setattr__\u001b[39;49m(\u001b[39mself\u001b[39;49m, name, value)\n\u001b[0;32m   5589\u001b[0m \u001b[39mexcept\u001b[39;00m \u001b[39mAttributeError\u001b[39;00m:\n\u001b[0;32m   5590\u001b[0m     \u001b[39mpass\u001b[39;00m\n",
      "File \u001b[1;32mc:\\Users\\user\\Projects\\forecaster\\winFlask\\lib\\site-packages\\pandas\\_libs\\properties.pyx:70\u001b[0m, in \u001b[0;36mpandas._libs.properties.AxisProperty.__set__\u001b[1;34m()\u001b[0m\n",
      "File \u001b[1;32mc:\\Users\\user\\Projects\\forecaster\\winFlask\\lib\\site-packages\\pandas\\core\\generic.py:769\u001b[0m, in \u001b[0;36mNDFrame._set_axis\u001b[1;34m(self, axis, labels)\u001b[0m\n\u001b[0;32m    767\u001b[0m \u001b[39mdef\u001b[39;00m \u001b[39m_set_axis\u001b[39m(\u001b[39mself\u001b[39m, axis: \u001b[39mint\u001b[39m, labels: Index) \u001b[39m-\u001b[39m\u001b[39m>\u001b[39m \u001b[39mNone\u001b[39;00m:\n\u001b[0;32m    768\u001b[0m     labels \u001b[39m=\u001b[39m ensure_index(labels)\n\u001b[1;32m--> 769\u001b[0m     \u001b[39mself\u001b[39;49m\u001b[39m.\u001b[39;49m_mgr\u001b[39m.\u001b[39;49mset_axis(axis, labels)\n\u001b[0;32m    770\u001b[0m     \u001b[39mself\u001b[39m\u001b[39m.\u001b[39m_clear_item_cache()\n",
      "File \u001b[1;32mc:\\Users\\user\\Projects\\forecaster\\winFlask\\lib\\site-packages\\pandas\\core\\internals\\managers.py:214\u001b[0m, in \u001b[0;36mBaseBlockManager.set_axis\u001b[1;34m(self, axis, new_labels)\u001b[0m\n\u001b[0;32m    212\u001b[0m \u001b[39mdef\u001b[39;00m \u001b[39mset_axis\u001b[39m(\u001b[39mself\u001b[39m, axis: \u001b[39mint\u001b[39m, new_labels: Index) \u001b[39m-\u001b[39m\u001b[39m>\u001b[39m \u001b[39mNone\u001b[39;00m:\n\u001b[0;32m    213\u001b[0m     \u001b[39m# Caller is responsible for ensuring we have an Index object.\u001b[39;00m\n\u001b[1;32m--> 214\u001b[0m     \u001b[39mself\u001b[39;49m\u001b[39m.\u001b[39;49m_validate_set_axis(axis, new_labels)\n\u001b[0;32m    215\u001b[0m     \u001b[39mself\u001b[39m\u001b[39m.\u001b[39maxes[axis] \u001b[39m=\u001b[39m new_labels\n",
      "File \u001b[1;32mc:\\Users\\user\\Projects\\forecaster\\winFlask\\lib\\site-packages\\pandas\\core\\internals\\base.py:69\u001b[0m, in \u001b[0;36mDataManager._validate_set_axis\u001b[1;34m(self, axis, new_labels)\u001b[0m\n\u001b[0;32m     66\u001b[0m     \u001b[39mpass\u001b[39;00m\n\u001b[0;32m     68\u001b[0m \u001b[39melif\u001b[39;00m new_len \u001b[39m!=\u001b[39m old_len:\n\u001b[1;32m---> 69\u001b[0m     \u001b[39mraise\u001b[39;00m \u001b[39mValueError\u001b[39;00m(\n\u001b[0;32m     70\u001b[0m         \u001b[39mf\u001b[39m\u001b[39m\"\u001b[39m\u001b[39mLength mismatch: Expected axis has \u001b[39m\u001b[39m{\u001b[39;00mold_len\u001b[39m}\u001b[39;00m\u001b[39m elements, new \u001b[39m\u001b[39m\"\u001b[39m\n\u001b[0;32m     71\u001b[0m         \u001b[39mf\u001b[39m\u001b[39m\"\u001b[39m\u001b[39mvalues have \u001b[39m\u001b[39m{\u001b[39;00mnew_len\u001b[39m}\u001b[39;00m\u001b[39m elements\u001b[39m\u001b[39m\"\u001b[39m\n\u001b[0;32m     72\u001b[0m     )\n",
      "\u001b[1;31mValueError\u001b[0m: Length mismatch: Expected axis has 0 elements, new values have 2 elements"
     ]
    }
   ],
   "source": [
    "import pandas as pd\n",
    "import clickhouse_driver as ch\n",
    "from dotenv import load_dotenv\n",
    "import os\n",
    "from main import *\n",
    "from fullCalc import getCampaignById\n",
    "\n",
    "load_dotenv()\n",
    "\n",
    "campaign = getCampaignById(host=os.environ.get('HOST'),\n",
    "                user=os.environ.get('CLICKHOUSE_USERNAME'),\n",
    "                password=os.environ.get('PASSWORD'),\n",
    "                campaignId=28639)\n",
    "df = loadData(host=os.environ.get('HOST'),\n",
    "                user=os.environ.get('CLICKHOUSE_USERNAME'),\n",
    "                password=os.environ.get('PASSWORD'),\n",
    "                campaign_name=campaign)\n",
    "\n",
    "df['datetime'] = pd.to_datetime(df['datetime']).dt.date"
   ]
  },
  {
   "cell_type": "code",
   "execution_count": 22,
   "metadata": {},
   "outputs": [
    {
     "data": {
      "text/html": [
       "<div>\n",
       "<style scoped>\n",
       "    .dataframe tbody tr th:only-of-type {\n",
       "        vertical-align: middle;\n",
       "    }\n",
       "\n",
       "    .dataframe tbody tr th {\n",
       "        vertical-align: top;\n",
       "    }\n",
       "\n",
       "    .dataframe thead th {\n",
       "        text-align: right;\n",
       "    }\n",
       "</style>\n",
       "<table border=\"1\" class=\"dataframe\">\n",
       "  <thead>\n",
       "    <tr style=\"text-align: right;\">\n",
       "      <th></th>\n",
       "    </tr>\n",
       "  </thead>\n",
       "  <tbody>\n",
       "  </tbody>\n",
       "</table>\n",
       "</div>"
      ],
      "text/plain": [
       "Empty DataFrame\n",
       "Columns: []\n",
       "Index: []"
      ]
     },
     "execution_count": 22,
     "metadata": {},
     "output_type": "execute_result"
    }
   ],
   "source": [
    "q=\"\"\"SELECT campaign_id, AVG(bid), AVG(approve), AVG(ctr), AVG(cr), AVG(epc), AVG(ecpm)\n",
    "FROM (SELECT AVG(IF(cpa_money=0,NULL,cpa_money)) as bid,\n",
    "\t\t\tsum(postbacks_confirmed_count)/sum(postbacks_total_count) as approve,\t\n",
    "\t\t\tsum(clicks)/sum(ad_shows) as ctr,\n",
    "\t\t\tsum(postbacks_total_count)/sum(clicks) as cr,\n",
    "\t\t\tbid*sum(postbacks_confirmed_count)/sum(clicks) as epc,\n",
    "\t\t\tbid*sum(postbacks_confirmed_count)/sum(ad_shows)*1000 as ecpm, ad_id, sum(ad_shows) as shows\n",
    "\t\tFROM luckyfeed.ad_shows\n",
    "\t\tWHERE ad_id in (SELECT ad_id \n",
    "\t\t\t\t\t\tFROM ads.ads \n",
    "\t\t\t\t\t\tWHERE campaign_id == 28639)\n",
    "GROUP BY ad_id) asu2\n",
    "LEFT JOIN (SELECT ad_id, campaign_name FROM ads.ads) c ON c.ad_id == asu2.ad_id\n",
    "WHERE bid is not NULL and \n",
    "\t\tshows!=0\n",
    "GROUP BY campaign_id;\"\"\"\n",
    "\n",
    "sqlCH = ch.Client(host=os.environ.get('HOST'),\n",
    "                user=os.environ.get('CLICKHOUSE_USERNAME'),\n",
    "                password=os.environ.get('PASSWORD'),)\n",
    "df = pd.DataFrame(sqlCH.execute(q))\n",
    "df"
   ]
  }
 ],
 "metadata": {
  "kernelspec": {
   "display_name": "Python 3.10.5 ('winFlask': venv)",
   "language": "python",
   "name": "python3"
  },
  "language_info": {
   "codemirror_mode": {
    "name": "ipython",
    "version": 3
   },
   "file_extension": ".py",
   "mimetype": "text/x-python",
   "name": "python",
   "nbconvert_exporter": "python",
   "pygments_lexer": "ipython3",
   "version": "3.10.5"
  },
  "orig_nbformat": 4,
  "vscode": {
   "interpreter": {
    "hash": "e187d5fc764be13cebda729f2d07c009f13e1487c6693eec09593ea050eda0d8"
   }
  }
 },
 "nbformat": 4,
 "nbformat_minor": 2
}
