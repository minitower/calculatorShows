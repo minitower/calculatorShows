{
 "cells": [
  {
   "cell_type": "code",
   "execution_count": 3,
   "metadata": {},
   "outputs": [
    {
     "name": "stdout",
     "output_type": "stream",
     "text": [
      "              0\n",
      "0  RU | Суставы\n"
     ]
    },
    {
     "data": {
      "text/plain": [
       "'RU | Суставы'"
      ]
     },
     "execution_count": 3,
     "metadata": {},
     "output_type": "execute_result"
    }
   ],
   "source": [
    "import pandas as pd\n",
    "import clickhouse_driver as ch\n",
    "from dotenv import load_dotenv\n",
    "import os\n",
    "from fullCalc import *\n",
    "\n",
    "load_dotenv()\n",
    "\n",
    "campaign = getCampaignById(host=os.environ.get('HOST'),\n",
    "                user=os.environ.get('CLICKHOUSE_USERNAME'),\n",
    "                password=os.environ.get('PASSWORD'),\n",
    "                campaignId=14585)"
   ]
  }
 ],
 "metadata": {
  "kernelspec": {
   "display_name": "Python 3.10.5 ('winFlask': venv)",
   "language": "python",
   "name": "python3"
  },
  "language_info": {
   "codemirror_mode": {
    "name": "ipython",
    "version": 3
   },
   "file_extension": ".py",
   "mimetype": "text/x-python",
   "name": "python",
   "nbconvert_exporter": "python",
   "pygments_lexer": "ipython3",
   "version": "3.10.5"
  },
  "orig_nbformat": 4,
  "vscode": {
   "interpreter": {
    "hash": "e187d5fc764be13cebda729f2d07c009f13e1487c6693eec09593ea050eda0d8"
   }
  }
 },
 "nbformat": 4,
 "nbformat_minor": 2
}
